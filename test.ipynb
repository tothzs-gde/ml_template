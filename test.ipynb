{
 "cells": [
  {
   "cell_type": "code",
   "execution_count": 103,
   "id": "0c9468de",
   "metadata": {},
   "outputs": [],
   "source": [
    "import yaml\n",
    "import importlib\n",
    "from typing import Any"
   ]
  },
  {
   "cell_type": "code",
   "execution_count": 104,
   "id": "966e1aa0",
   "metadata": {},
   "outputs": [],
   "source": [
    "def load_config(path: str) -> dict[str, Any]:\n",
    "    with open(path, \"r\") as f:\n",
    "        return yaml.safe_load(f)"
   ]
  },
  {
   "cell_type": "code",
   "execution_count": 105,
   "id": "d177dd80",
   "metadata": {},
   "outputs": [],
   "source": [
    "def import_class(class_path: str):\n",
    "    module_name, class_name = class_path.rsplit(\".\", 1)\n",
    "    module = importlib.import_module(module_name)\n",
    "    return getattr(module, class_name)"
   ]
  },
  {
   "cell_type": "code",
   "execution_count": 131,
   "id": "dbe58473",
   "metadata": {},
   "outputs": [],
   "source": [
    "def instantiate_component(component_config: dict[str, Any], depth=0) -> Any:\n",
    "    cls = import_class(component_config[\"class\"])\n",
    "    name = component_config.get(\"name\", \"\")\n",
    "    params = component_config.get(\"params\", {})\n",
    "\n",
    "    for key, value in params.items():\n",
    "        print(f\"{name=}, {key=}, {cls}, {type(value)}\")\n",
    "        try:\n",
    "            if isinstance(value, list):\n",
    "                for item in value:\n",
    "                    instantiate_component(item)\n",
    "            else:\n",
    "                raise NotImplementedError()\n",
    "        except Exception as e:\n",
    "            print(e)\n"
   ]
  },
  {
   "cell_type": "code",
   "execution_count": 132,
   "id": "2977e869",
   "metadata": {},
   "outputs": [
    {
     "name": "stdout",
     "output_type": "stream",
     "text": [
      "name='', key='steps', <class 'sklearn.pipeline.Pipeline'>, <class 'list'>\n",
      "name='data_pipe', key='steps', <class 'sklearn.pipeline.Pipeline'>, <class 'list'>\n",
      "name='preprocessor', key='transformers', <class 'sklearn.compose._column_transformer.ColumnTransformer'>, <class 'list'>\n",
      "name='num', key='imputer', <class 'sklearn.pipeline.Pipeline'>, <class 'dict'>\n",
      "\n",
      "name='num', key='scaler', <class 'sklearn.pipeline.Pipeline'>, <class 'dict'>\n",
      "\n",
      "name='cat', key='steps', <class 'sklearn.pipeline.Pipeline'>, <class 'list'>\n",
      "name='imputer', key='strategy', <class 'sklearn.impute._base.SimpleImputer'>, <class 'str'>\n",
      "\n",
      "name='feature_selector', key='k', <class 'sklearn.feature_selection._univariate_selection.SelectKBest'>, <class 'str'>\n",
      "\n",
      "name='classifier', key='C', <class 'sklearn.linear_model._logistic.LogisticRegression'>, <class 'float'>\n",
      "\n",
      "name='classifier', key='solver', <class 'sklearn.linear_model._logistic.LogisticRegression'>, <class 'str'>\n",
      "\n",
      "name='classifier', key='max_iter', <class 'sklearn.linear_model._logistic.LogisticRegression'>, <class 'int'>\n",
      "\n"
     ]
    }
   ],
   "source": [
    "config = load_config('config_test.yaml')\n",
    "\n",
    "pipeline_config = config.get(\"pipeline\")\n",
    "search_params_config = config.get(\"search_parameters\", [])\n",
    "\n",
    "pipeline = instantiate_component(pipeline_config)\n",
    "\n",
    "pipeline"
   ]
  },
  {
   "cell_type": "markdown",
   "id": "f08819cf",
   "metadata": {},
   "source": [
    "---"
   ]
  },
  {
   "cell_type": "code",
   "execution_count": 27,
   "id": "b92a939c",
   "metadata": {},
   "outputs": [],
   "source": [
    "def import_class(class_path: str):\n",
    "    module_name, class_name = class_path.rsplit(\".\", 1)\n",
    "    module = importlib.import_module(module_name)\n",
    "    return getattr(module, class_name)"
   ]
  },
  {
   "cell_type": "code",
   "execution_count": 28,
   "id": "c0a5af3e",
   "metadata": {},
   "outputs": [],
   "source": [
    "def instantiate_component(component_config: dict[str, Any]) -> Any:\n",
    "    cls = import_class(component_config[\"class\"])\n",
    "    params = component_config.get(\"params\", {})\n",
    "\n",
    "    for key, val in params.items():\n",
    "        if isinstance(val, dict) and \"class\" in val:\n",
    "            params[key] = instantiate_component(val)\n",
    "        elif isinstance(val, list):\n",
    "            new_list = []\n",
    "            for item in val:\n",
    "                if isinstance(item, dict) and \"class\" in item:\n",
    "                    new_list.append(instantiate_component(item))\n",
    "                else:\n",
    "                    new_list.append(item)\n",
    "            params[key] = new_list\n",
    "\n",
    "    return cls(**params)"
   ]
  },
  {
   "cell_type": "code",
   "execution_count": 29,
   "id": "a2e941a5",
   "metadata": {},
   "outputs": [],
   "source": [
    "def load_search_params(search_params_config):\n",
    "    search_params = []\n",
    "    for param_dict in search_params_config:\n",
    "        new_param_dict = {}\n",
    "        for key, val in param_dict.items():\n",
    "            if isinstance(val, list):\n",
    "                new_list = []\n",
    "                for item in val:\n",
    "                    if isinstance(item, dict) and \"class\" in item:\n",
    "                        new_list.append(instantiate_component(item))\n",
    "                    else:\n",
    "                        new_list.append(item)\n",
    "                new_param_dict[key] = new_list\n",
    "            else:\n",
    "                new_param_dict[key] = val\n",
    "        search_params.append(new_param_dict)\n",
    "    return search_params"
   ]
  },
  {
   "cell_type": "code",
   "execution_count": 30,
   "id": "cbe18a9d",
   "metadata": {},
   "outputs": [],
   "source": [
    "def load_config(path: str) -> dict[str, Any]:\n",
    "    with open(path, \"r\") as f:\n",
    "        return yaml.safe_load(f)"
   ]
  },
  {
   "cell_type": "code",
   "execution_count": 31,
   "id": "acb999fa",
   "metadata": {},
   "outputs": [],
   "source": [
    "def load_pipeline_and_search_params(config_path: str):\n",
    "    config = load_config(config_path)\n",
    "\n",
    "    pipeline_config = config.get(\"pipeline\")\n",
    "    search_params_config = config.get(\"search_parameters\", [])\n",
    "\n",
    "    pipeline = instantiate_component(pipeline_config)\n",
    "    search_params = load_search_params(search_params_config)\n",
    "\n",
    "    return pipeline, search_params"
   ]
  },
  {
   "cell_type": "code",
   "execution_count": 44,
   "id": "a65efa76",
   "metadata": {},
   "outputs": [
    {
     "name": "stdout",
     "output_type": "stream",
     "text": [
      "Pipeline:\n",
      "Pipeline(steps=[LogisticRegression(), LogisticRegression()])\n",
      "\n",
      "Search parameters:\n",
      "{'data_pipe__preprocessor__num__imputer__strategy': ['mean', 'median']}\n"
     ]
    }
   ],
   "source": [
    "pipeline, search_params = load_pipeline_and_search_params(\"config_test.yaml\")\n",
    "print(\"Pipeline:\")\n",
    "print(pipeline)\n",
    "print(\"\\nSearch parameters:\")\n",
    "for p in search_params:\n",
    "    print(p)"
   ]
  }
 ],
 "metadata": {
  "kernelspec": {
   "display_name": "app_venv (3.13.7)",
   "language": "python",
   "name": "python3"
  },
  "language_info": {
   "codemirror_mode": {
    "name": "ipython",
    "version": 3
   },
   "file_extension": ".py",
   "mimetype": "text/x-python",
   "name": "python",
   "nbconvert_exporter": "python",
   "pygments_lexer": "ipython3",
   "version": "3.13.7"
  }
 },
 "nbformat": 4,
 "nbformat_minor": 5
}
