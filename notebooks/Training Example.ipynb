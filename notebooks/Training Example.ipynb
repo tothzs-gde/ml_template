{
 "cells": [
  {
   "cell_type": "markdown",
   "id": "a41ed190",
   "metadata": {},
   "source": [
    "# IMPORTANT:\n",
    "\n",
    "MLflow grid_search.fit hangs when autolog is turned on and the notebook is ran the very first time. A workaround is to use a small parameter grid first, then use the actual larger parameter grid when you rerun the notebook. It is important that you do not restart the notebook! If you restart the notebook the grid_search.fit call will fail again with a larger parameter grid."
   ]
  },
  {
   "cell_type": "markdown",
   "id": "355cf948",
   "metadata": {},
   "source": [
    "# Data Processing and Model Training - Titanic Dataset\n",
    "\n",
    "In this notebook we define a proof of concept data processing including both the preprocessing and preparation of the data and the classification model as well. Bundling these two components together allows us to to tune both at the same time to find best fit during the training, and later deploy them as a unit."
   ]
  },
  {
   "cell_type": "markdown",
   "id": "33b34d89",
   "metadata": {},
   "source": [
    "### Package imports\n",
    "\n",
    "The warnings library is used to supress sklearn warning and keep the cell outputs clean. For example some parameters during the hyperparameter training might not be compatible. In these cases sklearn puts out a warning, to tell the user of this issue, but since this doesn't affect the rest of the parameter combinations, and the hyperparameter tuning concludes successfully."
   ]
  },
  {
   "cell_type": "code",
   "execution_count": 1,
   "id": "00938d97",
   "metadata": {},
   "outputs": [],
   "source": [
    "import sys\n",
    "import os\n",
    "sys.path.append(os.path.abspath(os.path.join(os.getcwd(), '..')))\n",
    "\n",
    "import datetime\n",
    "import warnings\n",
    "warnings.filterwarnings(\"ignore\")"
   ]
  },
  {
   "cell_type": "code",
   "execution_count": 2,
   "id": "5a14b93e",
   "metadata": {},
   "outputs": [],
   "source": [
    "import yaml\n",
    "\n",
    "import matplotlib.pyplot as plt\n",
    "import mlflow\n",
    "from mlflow import MlflowClient\n",
    "import pandas as pd\n",
    "from sklearn.metrics import accuracy_score\n",
    "from sklearn.metrics import classification_report\n",
    "from sklearn.metrics import ConfusionMatrixDisplay\n",
    "from sklearn.model_selection import GridSearchCV\n",
    "from sklearn.model_selection import StratifiedKFold\n",
    "from sklearn.model_selection import train_test_split\n",
    "\n",
    "from src.data.io import load_from_csv\n",
    "from src.data.io import export_drift_data\n",
    "from src.model.evaluate import evaluate\n",
    "from src.model.pipeline import load_config\n",
    "from src.model.pipeline import load_pipeline\n",
    "from src.model.pipeline import load_search_params\n",
    "from src.model import RANDOM_SEED\n",
    "from src.utils.minio import create_mlflow_bucket\n",
    "from src.utils.settings import settings"
   ]
  },
  {
   "cell_type": "code",
   "execution_count": 3,
   "id": "ccd1883c",
   "metadata": {},
   "outputs": [],
   "source": [
    "os.environ[\"AWS_ACCESS_KEY_ID\"] = settings.aws_access_key_id\n",
    "os.environ[\"AWS_SECRET_ACCESS_KEY\"] = settings.aws_secret_access_key\n",
    "os.environ[\"MLFLOW_S3_ENDPOINT_URL\"] = settings.mlflow_s3_endpoint_url"
   ]
  },
  {
   "cell_type": "markdown",
   "id": "386729b5",
   "metadata": {},
   "source": [
    "## MLflow setup"
   ]
  },
  {
   "cell_type": "code",
   "execution_count": 4,
   "id": "bbbbf45e",
   "metadata": {},
   "outputs": [
    {
     "name": "stderr",
     "output_type": "stream",
     "text": [
      "2025/09/17 13:32:58 INFO mlflow.tracking.fluent: Autologging successfully enabled for sklearn.\n"
     ]
    }
   ],
   "source": [
    "mlflow.set_tracking_uri(uri=settings.mlflow_tracking_url)\n",
    "mlflow.set_experiment(experiment_name=settings.mlflow_experiment_name)\n",
    "mlflow.autolog(\n",
    "    log_models=False,\n",
    ")\n",
    "\n",
    "run_name = f\"train_{datetime.datetime.now().strftime(\"%Y%m%d%H%M%S\")}\""
   ]
  },
  {
   "cell_type": "markdown",
   "id": "9e0750d0",
   "metadata": {},
   "source": [
    "### Cloud storage bucket initiation"
   ]
  },
  {
   "cell_type": "code",
   "execution_count": 5,
   "id": "df9e9596",
   "metadata": {},
   "outputs": [
    {
     "name": "stdout",
     "output_type": "stream",
     "text": [
      "2025-09-17 13:32:58,516 [INFO] src.utils.logging: Using existing MLflow bucket\n"
     ]
    }
   ],
   "source": [
    "create_mlflow_bucket()"
   ]
  },
  {
   "cell_type": "markdown",
   "id": "700d72cf",
   "metadata": {},
   "source": [
    "## Data import"
   ]
  },
  {
   "cell_type": "code",
   "execution_count": 6,
   "id": "949d41e2",
   "metadata": {},
   "outputs": [
    {
     "name": "stdout",
     "output_type": "stream",
     "text": [
      "2025-09-17 13:32:58,522 [INFO] src.utils.logging: Importing data from local csv: ../data/titanic.csv\n",
      "2025-09-17 13:32:58,528 [INFO] src.utils.logging: Imported dataset (891, 11)\n",
      "2025-09-17 13:32:58,537 [INFO] src.utils.logging: Using existing MLflow bucket\n"
     ]
    }
   ],
   "source": [
    "X_data, y_data = load_from_csv(\n",
    "    data_path='../data/titanic.csv',\n",
    "    config_path=\"../config/data_config.yaml\",\n",
    ")\n",
    "\n",
    "X_train, X_drift = train_test_split(\n",
    "    X_data,\n",
    "    test_size=settings.test_split_size,\n",
    "    random_state=RANDOM_SEED,\n",
    ")\n",
    "y_train, y_drift = train_test_split(\n",
    "    y_data,\n",
    "    test_size=settings.test_split_size,\n",
    "    random_state=RANDOM_SEED,\n",
    ")\n",
    "\n",
    "drift_file_name = export_drift_data(X_drift, y_drift)"
   ]
  },
  {
   "cell_type": "markdown",
   "id": "2dc05b06",
   "metadata": {},
   "source": [
    "## Training\n",
    "\n",
    "For the training we are using grid search hyperparameter tuning with stratified K-fold crossvalidation."
   ]
  },
  {
   "cell_type": "markdown",
   "id": "e496d4a1",
   "metadata": {},
   "source": [
    "Dummy run. Workaround for the autolog getting stuck on large search grids issue."
   ]
  },
  {
   "cell_type": "code",
   "execution_count": 7,
   "id": "4de4dc1e",
   "metadata": {},
   "outputs": [
    {
     "name": "stdout",
     "output_type": "stream",
     "text": [
      "Fitting 5 folds for each of 16 candidates, totalling 80 fits\n"
     ]
    },
    {
     "name": "stderr",
     "output_type": "stream",
     "text": [
      "2025/09/17 13:33:00 INFO mlflow.bedrock: Enabled auto-tracing for Bedrock. Note that MLflow can only trace boto3 service clients that are created after this call. If you have already created one, please recreate the client by calling `boto3.client`.\n",
      "2025/09/17 13:33:00 INFO mlflow.tracking.fluent: Autologging successfully enabled for boto3.\n",
      "2025/09/17 13:33:01 INFO mlflow.sklearn.utils: Logging the 5 best runs, 11 runs will be omitted.\n"
     ]
    },
    {
     "name": "stdout",
     "output_type": "stream",
     "text": [
      "🏃 View run serious-panda-9 at: http://127.0.0.1:8080/#/experiments/1/runs/7dc74617eb9b46658ee168ffc6f7efc2\n",
      "🧪 View experiment at: http://127.0.0.1:8080/#/experiments/1\n",
      "🏃 View run rebellious-loon-669 at: http://127.0.0.1:8080/#/experiments/1/runs/93ca5df5b70046adb3bba2227d78c56a\n",
      "🧪 View experiment at: http://127.0.0.1:8080/#/experiments/1\n",
      "🏃 View run luminous-yak-850 at: http://127.0.0.1:8080/#/experiments/1/runs/2edd9c2b14414825b0a8ed8f9ed677b2\n",
      "🧪 View experiment at: http://127.0.0.1:8080/#/experiments/1\n",
      "🏃 View run industrious-mare-150 at: http://127.0.0.1:8080/#/experiments/1/runs/67654cb147354e1ab1f8fd8ba9a0ebb8\n",
      "🧪 View experiment at: http://127.0.0.1:8080/#/experiments/1\n",
      "🏃 View run hilarious-deer-34 at: http://127.0.0.1:8080/#/experiments/1/runs/28a460acf80149e8be09a11588215288\n",
      "🧪 View experiment at: http://127.0.0.1:8080/#/experiments/1\n"
     ]
    },
    {
     "name": "stderr",
     "output_type": "stream",
     "text": [
      "Registered model 'sklearn-logreg-model' already exists. Creating a new version of this model...\n",
      "2025/09/17 13:33:05 INFO mlflow.store.model_registry.abstract_store: Waiting up to 300 seconds for model version to finish creation. Model name: sklearn-logreg-model, version 16\n",
      "Created version '16' of model 'sklearn-logreg-model'.\n"
     ]
    },
    {
     "name": "stdout",
     "output_type": "stream",
     "text": [
      "🏃 View run train_20250917133258 at: http://127.0.0.1:8080/#/experiments/1/runs/ac5ac4e9da014450a3a349db182e6f84\n",
      "🧪 View experiment at: http://127.0.0.1:8080/#/experiments/1\n"
     ]
    },
    {
     "name": "stdout",
     "output_type": "stream",
     "text": [
      "🏃 View run sassy-worm-472 at: http://127.0.0.1:8080/#/experiments/1/runs/b145a16749994dd0bcbfa9191505f905\n",
      "🧪 View experiment at: http://127.0.0.1:8080/#/experiments/1\n",
      "🏃 View run bouncy-ape-269 at: http://127.0.0.1:8080/#/experiments/1/runs/acde892a7f8943d4921221bb98a5181b\n",
      "🧪 View experiment at: http://127.0.0.1:8080/#/experiments/1\n",
      "🏃 View run honorable-robin-98 at: http://127.0.0.1:8080/#/experiments/1/runs/8ba7fa914c8a4aa689694ad95ab7c062\n",
      "🧪 View experiment at: http://127.0.0.1:8080/#/experiments/1\n",
      "🏃 View run blushing-goose-730 at: http://127.0.0.1:8080/#/experiments/1/runs/aa955d6c89bd4cf6a3748176900bab17\n",
      "🧪 View experiment at: http://127.0.0.1:8080/#/experiments/1\n",
      "🏃 View run peaceful-loon-26 at: http://127.0.0.1:8080/#/experiments/1/runs/95db401949e942b1acdc9845d56ff821\n",
      "🧪 View experiment at: http://127.0.0.1:8080/#/experiments/1\n"
     ]
    }
   ],
   "source": [
    "config = load_config('../config/pipeline_config_dummy.yaml')\n",
    "pipeline_config = config.get(\"pipeline\")\n",
    "search_params_config = config.get(\"search_parameters\", [])\n",
    "\n",
    "pipeline = load_pipeline(pipeline_config)\n",
    "search_params = load_search_params(search_params_config)\n",
    "\n",
    "with mlflow.start_run(\n",
    "    run_name=run_name,\n",
    "    log_system_metrics=False,\n",
    "    tags={\"drift-data\": drift_file_name},\n",
    ") as active_run:    \n",
    "    skf = StratifiedKFold(n_splits=5, shuffle=False)\n",
    "    grid_search = GridSearchCV(estimator=pipeline, param_grid=search_params, scoring=\"accuracy\", cv=skf, verbose=1)\n",
    "\n",
    "    grid_search.fit(X_train, y_train)\n",
    "    best_model = grid_search.best_estimator_\n",
    "\n",
    "    model_info = mlflow.sklearn.log_model(\n",
    "        sk_model=best_model,\n",
    "        name=settings.mlflow_model_name,\n",
    "        input_example=X_train.head(),\n",
    "        registered_model_name=settings.mlflow_registered_model_name,\n",
    "    )\n",
    "\n",
    "    mlflow_client = MlflowClient()\n",
    "    latest_versions = mlflow_client.get_latest_versions(\n",
    "        name=settings.mlflow_registered_model_name,\n",
    "        stages=[\"None\"]\n",
    "    )\n",
    "\n",
    "    version_info = next(\n",
    "        v for v in latest_versions if v.run_id == active_run.info.run_id\n",
    "    )\n",
    "    \n",
    "    # registered model tags\n",
    "    mlflow_client.set_model_version_tag(\n",
    "        name=settings.mlflow_registered_model_name,\n",
    "        version=version_info.version,\n",
    "        key=\"drift-data\",\n",
    "        value=drift_file_name,\n",
    "    )\n",
    "    mlflow_client.set_model_version_tag(\n",
    "        name=settings.mlflow_registered_model_name,\n",
    "        version=version_info.version,\n",
    "        key=\"stage\",\n",
    "        value=\"archived\",\n",
    "    )"
   ]
  },
  {
   "cell_type": "markdown",
   "id": "9a7e05ab",
   "metadata": {},
   "source": [
    "Real training run"
   ]
  },
  {
   "cell_type": "code",
   "execution_count": 8,
   "id": "348e28f9",
   "metadata": {},
   "outputs": [
    {
     "name": "stdout",
     "output_type": "stream",
     "text": [
      "Pipeline(steps=[('data_pipe',\n",
      "                 Pipeline(steps=[('preprocessor',\n",
      "                                  ColumnTransformer(transformers=[('num',\n",
      "                                                                   Pipeline(steps=[('imputer',\n",
      "                                                                                    SimpleImputer(strategy='most_frequent')),\n",
      "                                                                                   ('scaler',\n",
      "                                                                                    StandardScaler())]),\n",
      "                                                                   ['Age',\n",
      "                                                                    'SibSp',\n",
      "                                                                    'Parch',\n",
      "                                                                    'Fare']),\n",
      "                                                                  ('cat',\n",
      "                                                                   Pipeline(steps=[('imputer',\n",
      "                                                                                    SimpleImputer(strategy='most_frequent')),\n",
      "                                                                                   ('encoder',\n",
      "                                                                                    OneHotEncoder())]),\n",
      "                                                                   ['Pclass',\n",
      "                                                                    'Sex',\n",
      "                                                                    'Embarked'])])),\n",
      "                                 ('feature_selector', SelectKBest(k='all'))])),\n",
      "                ('classifier', LogisticRegression())])\n",
      "{'data_pipe__preprocessor__num__imputer__strategy': ['mean', 'median'], 'data_pipe__preprocessor__num__scaler': [None, StandardScaler()], 'data_pipe__preprocessor__cat__imputer__strategy': ['most_frequent'], 'data_pipe__feature_selector__k': [1], 'classifier': [LogisticRegression()], 'classifier__C': [0.1], 'classifier__solver': ['lbfgs', 'liblinear', 'sag', 'saga']}\n"
     ]
    }
   ],
   "source": [
    "config = load_config('../config/pipeline_config_dummy.yaml')\n",
    "pipeline_config = config.get(\"pipeline\")\n",
    "search_params_config = config.get(\"search_parameters\", [])\n",
    "\n",
    "pipeline = load_pipeline(pipeline_config)\n",
    "search_params = load_search_params(search_params_config)\n",
    "\n",
    "print(pipeline)\n",
    "for param in search_params:\n",
    "    print(param)"
   ]
  },
  {
   "cell_type": "code",
   "execution_count": 9,
   "id": "7f38fe31",
   "metadata": {},
   "outputs": [
    {
     "name": "stdout",
     "output_type": "stream",
     "text": [
      "Fitting 5 folds for each of 16 candidates, totalling 80 fits\n"
     ]
    },
    {
     "name": "stderr",
     "output_type": "stream",
     "text": [
      "2025/09/17 13:33:08 INFO mlflow.sklearn.utils: Logging the 5 best runs, 11 runs will be omitted.\n",
      "Registered model 'sklearn-logreg-model' already exists. Creating a new version of this model...\n",
      "2025/09/17 13:33:12 INFO mlflow.store.model_registry.abstract_store: Waiting up to 300 seconds for model version to finish creation. Model name: sklearn-logreg-model, version 17\n",
      "Created version '17' of model 'sklearn-logreg-model'.\n"
     ]
    },
    {
     "name": "stdout",
     "output_type": "stream",
     "text": [
      "🏃 View run train_20250917133258 at: http://127.0.0.1:8080/#/experiments/1/runs/e8a0092da3874439b693087a16f8db35\n",
      "🧪 View experiment at: http://127.0.0.1:8080/#/experiments/1\n"
     ]
    }
   ],
   "source": [
    "RUN_ID = None\n",
    "\n",
    "with mlflow.start_run(\n",
    "    run_name=run_name,\n",
    "    log_system_metrics=False,\n",
    "    tags={\"drift-data\": drift_file_name},\n",
    ") as active_run:\n",
    "    RUN_ID = active_run.info.run_id\n",
    "    skf = StratifiedKFold(n_splits=5, shuffle=False)\n",
    "    grid_search = GridSearchCV(estimator=pipeline, param_grid=search_params, scoring=\"accuracy\", cv=skf, verbose=1)\n",
    "\n",
    "    grid_search.fit(X_train, y_train)\n",
    "    best_model = grid_search.best_estimator_\n",
    "\n",
    "    model_info = mlflow.sklearn.log_model(\n",
    "        sk_model=best_model,\n",
    "        name=settings.mlflow_model_name,\n",
    "        input_example=X_train.head(),\n",
    "        registered_model_name=settings.mlflow_registered_model_name,\n",
    "    )\n",
    "\n",
    "    mlflow_client = MlflowClient()\n",
    "    latest_versions = mlflow_client.get_latest_versions(\n",
    "        name=settings.mlflow_registered_model_name,\n",
    "        stages=[\"None\"]\n",
    "    )\n",
    "\n",
    "    version_info = next(\n",
    "        v for v in latest_versions if v.run_id == RUN_ID\n",
    "    )\n",
    "    \n",
    "    # registered model tags\n",
    "    mlflow_client.set_model_version_tag(\n",
    "        name=settings.mlflow_registered_model_name,\n",
    "        version=version_info.version,\n",
    "        key=\"drift-data\",\n",
    "        value=drift_file_name,\n",
    "    )\n",
    "    mlflow_client.set_model_version_tag(\n",
    "        name=settings.mlflow_registered_model_name,\n",
    "        version=version_info.version,\n",
    "        key=\"stage\",\n",
    "        value=\"staging\",\n",
    "    )"
   ]
  },
  {
   "cell_type": "code",
   "execution_count": 10,
   "id": "ddd13b8c",
   "metadata": {},
   "outputs": [
    {
     "name": "stderr",
     "output_type": "stream",
     "text": [
      "2025/09/17 13:33:12 INFO mlflow.bedrock: Enabled auto-tracing for Bedrock. Note that MLflow can only trace boto3 service clients that are created after this call. If you have already created one, please recreate the client by calling `boto3.client`.\n",
      "2025/09/17 13:33:12 INFO mlflow.tracking.fluent: Autologging successfully enabled for boto3.\n",
      "2025/09/17 13:33:12 INFO mlflow.tracking.fluent: Autologging successfully enabled for sklearn.\n"
     ]
    },
    {
     "name": "stdout",
     "output_type": "stream",
     "text": [
      "2025-09-17 13:33:12,943 [INFO] src.utils.logging: Evaluating model (sklearn-logreg-model:17)\n"
     ]
    },
    {
     "name": "stderr",
     "output_type": "stream",
     "text": [
      "2025/09/17 13:33:13 INFO mlflow.system_metrics.system_metrics_monitor: Skip logging GPU metrics. Set logger level to DEBUG for more details.\n",
      "2025/09/17 13:33:13 INFO mlflow.system_metrics.system_metrics_monitor: Started monitoring system metrics.\n"
     ]
    },
    {
     "name": "stdout",
     "output_type": "stream",
     "text": [
      "2025-09-17 13:33:13,303 [INFO] src.utils.logging: {'0': {'precision': 1.0, 'recall': 1.0, 'f1-score': 1.0, 'support': 266.0}, '1': {'precision': 1.0, 'recall': 1.0, 'f1-score': 1.0, 'support': 152.0}, 'accuracy': 1.0, 'macro avg': {'precision': 1.0, 'recall': 1.0, 'f1-score': 1.0, 'support': 418.0}, 'weighted avg': {'precision': 1.0, 'recall': 1.0, 'f1-score': 1.0, 'support': 418.0}}\n"
     ]
    },
    {
     "name": "stderr",
     "output_type": "stream",
     "text": [
      "2025/09/17 13:33:14 INFO mlflow.system_metrics.system_metrics_monitor: Stopping system metrics monitoring...\n",
      "2025/09/17 13:33:14 INFO mlflow.system_metrics.system_metrics_monitor: Successfully terminated system metrics monitoring!\n"
     ]
    },
    {
     "name": "stdout",
     "output_type": "stream",
     "text": [
      "🏃 View run train_20250917133258 at: http://127.0.0.1:8080/#/experiments/1/runs/e8a0092da3874439b693087a16f8db35\n",
      "🧪 View experiment at: http://127.0.0.1:8080/#/experiments/1\n"
     ]
    }
   ],
   "source": [
    "test_results = evaluate(\n",
    "    model_name=settings.mlflow_registered_model_name,\n",
    "    model_version=version_info.version,\n",
    "    data_config_path='../config/data_config.yaml',\n",
    "    test_data_path=\"../data/titanic_test.csv\",\n",
    "    run_id=RUN_ID,\n",
    "    run_name=run_name,\n",
    ")"
   ]
  },
  {
   "cell_type": "markdown",
   "id": "a0eb3d75",
   "metadata": {},
   "source": [
    "The best parameters and the accuracy score of the model:"
   ]
  },
  {
   "cell_type": "code",
   "execution_count": 11,
   "id": "e55522a6",
   "metadata": {},
   "outputs": [
    {
     "name": "stdout",
     "output_type": "stream",
     "text": [
      "Best Parameters found:\n",
      "\n",
      "classifier: LogisticRegression()\n",
      "classifier__C: 0.1\n",
      "classifier__solver: lbfgs\n",
      "data_pipe__feature_selector__k: 1\n",
      "data_pipe__preprocessor__cat__imputer__strategy: most_frequent\n",
      "data_pipe__preprocessor__num__imputer__strategy: mean\n",
      "data_pipe__preprocessor__num__scaler: None\n",
      "\n",
      "Best Cross-Validation Score: 0.7840139751552795\n"
     ]
    }
   ],
   "source": [
    "print(\"Best Parameters found:\\n\")\n",
    "for k, v in grid_search.best_params_.items():\n",
    "    print(f\"{k}: {v}\")\n",
    "print(\"\")\n",
    "print(\"Best Cross-Validation Score:\", grid_search.best_score_)"
   ]
  },
  {
   "cell_type": "markdown",
   "id": "aedb9ffa",
   "metadata": {},
   "source": [
    "# Evaluation\n",
    "\n",
    "You can see the best fitted model parameters above. This classifier reached a training accuracy of ~78.68%.\n",
    "\n",
    "This model chose to only 'Sex_female' column, which is created from the 'Sex' column using one-hot encoding.\n",
    "\n",
    "On the test set this lucky choice results in 100% accuracy, but only because in the training set all female passengers survive and all males die."
   ]
  },
  {
   "cell_type": "code",
   "execution_count": 12,
   "id": "dcf9a220",
   "metadata": {},
   "outputs": [
    {
     "name": "stdout",
     "output_type": "stream",
     "text": [
      "accuracy   - 1.0\n",
      "precision  - 1.0\n",
      "recall     - 1.0\n",
      "f1-score   - 1.0\n"
     ]
    }
   ],
   "source": [
    "for key, value in test_results.items():\n",
    "    print(f\"{key:10} - {value}\")"
   ]
  },
  {
   "cell_type": "code",
   "execution_count": 13,
   "id": "85f27323",
   "metadata": {},
   "outputs": [
    {
     "name": "stdout",
     "output_type": "stream",
     "text": [
      "Accuracy of the model on the test dataset: 1.0\n"
     ]
    }
   ],
   "source": [
    "with open('../config/data_config.yaml', 'r') as file:\n",
    "    metadata = yaml.safe_load(file)\n",
    "\n",
    "index_columns = metadata['index_columns']\n",
    "target_column = metadata['target_column']\n",
    "\n",
    "df_test = pd.read_csv('../data/titanic_test.csv', index_col=index_columns)\n",
    "X_test = df_test.drop(columns=target_column)\n",
    "y_test = df_test[target_column]\n",
    "\n",
    "y_pred = best_model.predict(X_test)\n",
    "\n",
    "print(\"Accuracy of the model on the test dataset:\", accuracy_score(y_test, y_pred))"
   ]
  },
  {
   "cell_type": "code",
   "execution_count": 14,
   "id": "ce9f74fe",
   "metadata": {},
   "outputs": [
    {
     "name": "stdout",
     "output_type": "stream",
     "text": [
      "              precision    recall  f1-score   support\n",
      "\n",
      "           0       1.00      1.00      1.00       266\n",
      "           1       1.00      1.00      1.00       152\n",
      "\n",
      "    accuracy                           1.00       418\n",
      "   macro avg       1.00      1.00      1.00       418\n",
      "weighted avg       1.00      1.00      1.00       418\n",
      "\n"
     ]
    }
   ],
   "source": [
    "print(classification_report(y_test, y_pred))"
   ]
  },
  {
   "cell_type": "code",
   "execution_count": 15,
   "id": "caa0c862",
   "metadata": {},
   "outputs": [
    {
     "data": {
      "image/png": "[encoded data removed]",
      "text/plain": [
       "<Figure size 640x480 with 2 Axes>"
      ]
     },
     "metadata": {},
     "output_type": "display_data"
    }
   ],
   "source": [
    "ConfusionMatrixDisplay.from_predictions(y_test, y_pred)\n",
    "plt.show()"
   ]
  }
 ],
 "metadata": {
  "kernelspec": {
   "display_name": "venv_nb (3.13.7)",
   "language": "python",
   "name": "python3"
  },
  "language_info": {
   "codemirror_mode": {
    "name": "ipython",
    "version": 3
   },
   "file_extension": ".py",
   "mimetype": "text/x-python",
   "name": "python",
   "nbconvert_exporter": "python",
   "pygments_lexer": "ipython3",
   "version": "3.13.7"
  }
 },
 "nbformat": 4,
 "nbformat_minor": 5
}
