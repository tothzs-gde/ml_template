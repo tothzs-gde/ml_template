{
 "cells": [
  {
   "cell_type": "markdown",
   "id": "355cf948",
   "metadata": {},
   "source": [
    "# Data Processing and Model Training - Titanic Dataset\n",
    "\n",
    "In this notebook we define a proof of concept data processing including both the preprocessing and preparation of the data and the classification model as well. Bundling these two components together allows us to to tune both at the same time to find best fit during the training, and later deploy them as a unit."
   ]
  },
  {
   "cell_type": "markdown",
   "id": "33b34d89",
   "metadata": {},
   "source": [
    "### Package imports\n",
    "\n",
    "The warnings library is used to supress sklearn warning and keep the cell outputs clean. For example some parameters during the hyperparameter training might not be compatible. In these cases sklearn puts out a warning, to tell the user of this issue, but since this doesn't affect the rest of the parameter combinations, and the hyperparameter tuning concludes successfully."
   ]
  },
  {
   "cell_type": "code",
   "execution_count": 1,
   "id": "00938d97",
   "metadata": {},
   "outputs": [],
   "source": [
    "import sys\n",
    "import os\n",
    "sys.path.append(os.path.abspath(os.path.join(os.getcwd(), '..')))\n",
    "\n",
    "import datetime\n",
    "import warnings\n",
    "warnings.filterwarnings(\"ignore\")"
   ]
  },
  {
   "cell_type": "code",
   "execution_count": 2,
   "id": "5a14b93e",
   "metadata": {},
   "outputs": [],
   "source": [
    "import yaml\n",
    "\n",
    "import matplotlib.pyplot as plt\n",
    "import mlflow\n",
    "from mlflow.models import infer_signature\n",
    "import pandas as pd\n",
    "from minio import Minio\n",
    "from sklearn.metrics import accuracy_score\n",
    "from sklearn.metrics import classification_report\n",
    "from sklearn.metrics import ConfusionMatrixDisplay\n",
    "from sklearn.model_selection import GridSearchCV\n",
    "from sklearn.model_selection import StratifiedKFold\n",
    "\n",
    "from src.data.pipeline import load_config\n",
    "from src.data.pipeline import load_pipeline\n",
    "from src.data.pipeline import load_search_params\n",
    "from src.utils.settings import settings"
   ]
  },
  {
   "cell_type": "code",
   "execution_count": 3,
   "id": "ccd1883c",
   "metadata": {},
   "outputs": [],
   "source": [
    "os.environ[\"AWS_ACCESS_KEY_ID\"] = settings.aws_access_key_id\n",
    "os.environ[\"AWS_SECRET_ACCESS_KEY\"] = settings.aws_secret_access_key\n",
    "os.environ[\"MLFLOW_S3_ENDPOINT_URL\"] = settings.mlflow_s3_endpoint_url"
   ]
  },
  {
   "cell_type": "markdown",
   "id": "b8f3b30a",
   "metadata": {},
   "source": [
    "!! DEPRECATED\n",
    "\n",
    "## Configurations\n",
    "\n",
    "**features_to_use**: This list contains the whitelist of column names which contain relevant information for the training.\n",
    "\n",
    "**numeric_features**, **categorical_features**: These lists contain the columns names of numeric and categorical features, and are used to separate them so that we can apply different transformation steps to them.\n",
    "\n",
    "**param_grid**: Grid search parameters for the hyperparameter tuning."
   ]
  },
  {
   "cell_type": "markdown",
   "id": "5363c7be",
   "metadata": {},
   "source": [
    "!! DEPRECATED\n",
    "\n",
    "## Data processing pipeline definition\n",
    "\n",
    "Here we define the data processing pipeline. The parameters of each component, such as the strategy of the SimpleImputer, are just default values for testing purposes. The hyperparameter tuning is going to overwrite them.\n",
    "\n",
    "The categorical and numerical features are handled separately. First we impute the missing values in them, then categorical values are encoded, while numerical values are scaled.\n",
    "After the transformation steps above, we apply a feature selection layer, and then we connect it's output to the classifier."
   ]
  },
  {
   "cell_type": "markdown",
   "id": "386729b5",
   "metadata": {},
   "source": [
    "## MLflow setup"
   ]
  },
  {
   "cell_type": "code",
   "execution_count": 4,
   "id": "bbbbf45e",
   "metadata": {},
   "outputs": [
    {
     "name": "stderr",
     "output_type": "stream",
     "text": [
      "2025/09/08 14:46:20 INFO mlflow.tracking.fluent: Autologging successfully enabled for sklearn.\n"
     ]
    }
   ],
   "source": [
    "mlflow.set_tracking_uri(uri=settings.mlflow_tracking_url)\n",
    "mlflow.set_experiment(experiment_name=settings.mlflow_experiment_name)\n",
    "mlflow.autolog(\n",
    "    log_input_examples=True,\n",
    "    log_model_signatures=True,\n",
    "    log_models=False,\n",
    "    log_datasets=True,\n",
    "    log_traces=True,\n",
    ")\n",
    "\n",
    "run_name = f\"train_{datetime.datetime.now().strftime(\"%Y%m%d%H%M%S\")}\""
   ]
  },
  {
   "cell_type": "markdown",
   "id": "9e0750d0",
   "metadata": {},
   "source": [
    "### Cloud storage bucket initiation"
   ]
  },
  {
   "cell_type": "code",
   "execution_count": 5,
   "id": "df9e9596",
   "metadata": {},
   "outputs": [
    {
     "name": "stdout",
     "output_type": "stream",
     "text": [
      "Using existing MLflow bucket\n"
     ]
    }
   ],
   "source": [
    "client = Minio(\n",
    "    settings.minio_url,\n",
    "    access_key=settings.aws_access_key_id,\n",
    "    secret_key=settings.aws_secret_access_key,\n",
    "    secure=False,\n",
    ")\n",
    "\n",
    "if not client.bucket_exists(settings.minio_bucket_name):\n",
    "    print(\"MLflow bucket doesn't exist. Creating...\")\n",
    "    client.make_bucket(settings.minio_bucket_name)\n",
    "else:\n",
    "    print(\"Using existing MLflow bucket\")"
   ]
  },
  {
   "cell_type": "markdown",
   "id": "700d72cf",
   "metadata": {},
   "source": [
    "## Data import"
   ]
  },
  {
   "cell_type": "code",
   "execution_count": 6,
   "id": "949d41e2",
   "metadata": {},
   "outputs": [],
   "source": [
    "with open('../config/data_config.yaml', 'r') as file:\n",
    "    metadata = yaml.safe_load(file)\n",
    "\n",
    "index_columns = metadata['index_columns']\n",
    "target_column = metadata['target_column']\n",
    "\n",
    "df_train = pd.read_csv('../data/titanic.csv', index_col=index_columns)\n",
    "X_train = df_train.drop(columns=target_column)\n",
    "y_train = df_train[target_column]"
   ]
  },
  {
   "cell_type": "markdown",
   "id": "2dc05b06",
   "metadata": {},
   "source": [
    "## Training\n",
    "\n",
    "For the training we are using grid search hyperparameter tuning with stratified K-fold crossvalidation."
   ]
  },
  {
   "cell_type": "code",
   "execution_count": 7,
   "id": "348e28f9",
   "metadata": {},
   "outputs": [
    {
     "name": "stdout",
     "output_type": "stream",
     "text": [
      "Pipeline(steps=[('data_pipe',\n",
      "                 Pipeline(steps=[('preprocessor',\n",
      "                                  ColumnTransformer(transformers=[('num',\n",
      "                                                                   Pipeline(steps=[('imputer',\n",
      "                                                                                    SimpleImputer(strategy='most_frequent')),\n",
      "                                                                                   ('scaler',\n",
      "                                                                                    StandardScaler())]),\n",
      "                                                                   ['Age',\n",
      "                                                                    'SibSp',\n",
      "                                                                    'Parch',\n",
      "                                                                    'Fare']),\n",
      "                                                                  ('cat',\n",
      "                                                                   Pipeline(steps=[('imputer',\n",
      "                                                                                    SimpleImputer(strategy='most_frequent')),\n",
      "                                                                                   ('encoder',\n",
      "                                                                                    OneHotEncoder())]),\n",
      "                                                                   ['Pclass',\n",
      "                                                                    'Sex',\n",
      "                                                                    'Embarked'])])),\n",
      "                                 ('feature_selector', SelectKBest(k='all'))])),\n",
      "                ('classifier', LogisticRegression(C=1))])\n",
      "{'data_pipe__preprocessor__num__imputer__strategy': ['mean', 'median'], 'data_pipe__preprocessor__num__scaler': [None, StandardScaler(), MinMaxScaler()], 'data_pipe__preprocessor__cat__imputer__strategy': ['most_frequent', 'median'], 'data_pipe__feature_selector__k': [1], 'classifier': [LogisticRegression()], 'classifier__C': [0.1], 'classifier__solver': ['lbfgs', 'liblinear', 'sag', 'saga']}\n",
      "{'data_pipe__preprocessor__num__imputer__strategy': ['mean', 'median'], 'data_pipe__preprocessor__cat__imputer__strategy': ['most_frequent', 'median'], 'data_pipe__feature_selector__k': [1], 'classifier': [RandomForestClassifier()], 'classifier__max_depth': [5, 10, None]}\n"
     ]
    }
   ],
   "source": [
    "config = load_config('../config/pipeline_config.yaml')\n",
    "pipeline_config = config.get(\"pipeline\")\n",
    "search_params_config = config.get(\"search_parameters\", [])\n",
    "\n",
    "pipeline = load_pipeline(pipeline_config)\n",
    "search_params = load_search_params(search_params_config)\n",
    "\n",
    "print(pipeline)\n",
    "for param in search_params:\n",
    "    print(param)"
   ]
  },
  {
   "cell_type": "code",
   "execution_count": 8,
   "id": "7f38fe31",
   "metadata": {},
   "outputs": [
    {
     "name": "stderr",
     "output_type": "stream",
     "text": [
      "2025/09/08 14:46:20 INFO mlflow.system_metrics.system_metrics_monitor: Skip logging GPU metrics. Set logger level to DEBUG for more details.\n",
      "2025/09/08 14:46:20 INFO mlflow.system_metrics.system_metrics_monitor: Started monitoring system metrics.\n"
     ]
    },
    {
     "name": "stdout",
     "output_type": "stream",
     "text": [
      "Fitting 5 folds for each of 60 candidates, totalling 300 fits\n"
     ]
    },
    {
     "name": "stderr",
     "output_type": "stream",
     "text": [
      "2025/09/08 14:46:27 INFO mlflow.bedrock: Enabled auto-tracing for Bedrock. Note that MLflow can only trace boto3 service clients that are created after this call. If you have already created one, please recreate the client by calling `boto3.client`.\n",
      "2025/09/08 14:46:27 INFO mlflow.tracking.fluent: Autologging successfully enabled for boto3.\n",
      "2025/09/08 14:46:28 INFO mlflow.sklearn.utils: Logging the 5 best runs, 55 runs will be omitted.\n"
     ]
    },
    {
     "name": "stdout",
     "output_type": "stream",
     "text": [
      "🏃 View run industrious-slug-249 at: http://127.0.0.1:8080/#/experiments/1/runs/465b60e5b3694f2cb7fddf7c4fc2e91e\n",
      "🧪 View experiment at: http://127.0.0.1:8080/#/experiments/1\n",
      "🏃 View run thundering-dog-727 at: http://127.0.0.1:8080/#/experiments/1/runs/28af97fe21ca46faa41adb74944cf647\n",
      "🧪 View experiment at: http://127.0.0.1:8080/#/experiments/1\n",
      "🏃 View run bustling-roo-1 at: http://127.0.0.1:8080/#/experiments/1/runs/66a45b820e694664bd1aecef3a824030\n",
      "🧪 View experiment at: http://127.0.0.1:8080/#/experiments/1\n",
      "🏃 View run entertaining-jay-148 at: http://127.0.0.1:8080/#/experiments/1/runs/14049880594d418eb61dd6feebe02448\n",
      "🧪 View experiment at: http://127.0.0.1:8080/#/experiments/1\n",
      "🏃 View run youthful-bass-356 at: http://127.0.0.1:8080/#/experiments/1/runs/810ad38569e944a9912c7f7e90b0e87f\n",
      "🧪 View experiment at: http://127.0.0.1:8080/#/experiments/1\n"
     ]
    },
    {
     "name": "stderr",
     "output_type": "stream",
     "text": [
      "Registered model 'sklearn-logreg-model' already exists. Creating a new version of this model...\n",
      "2025/09/08 14:46:32 INFO mlflow.store.model_registry.abstract_store: Waiting up to 300 seconds for model version to finish creation. Model name: sklearn-logreg-model, version 12\n",
      "Created version '12' of model 'sklearn-logreg-model'.\n",
      "2025/09/08 14:46:32 INFO mlflow.system_metrics.system_metrics_monitor: Stopping system metrics monitoring...\n",
      "2025/09/08 14:46:32 INFO mlflow.system_metrics.system_metrics_monitor: Successfully terminated system metrics monitoring!\n"
     ]
    },
    {
     "name": "stdout",
     "output_type": "stream",
     "text": [
      "🏃 View run train_20250908144620 at: http://127.0.0.1:8080/#/experiments/1/runs/32a756af13134dc48bd880643bf83d90\n",
      "🧪 View experiment at: http://127.0.0.1:8080/#/experiments/1\n"
     ]
    }
   ],
   "source": [
    "with mlflow.start_run(\n",
    "    run_name=run_name,\n",
    "    log_system_metrics=True,\n",
    "    tags={'test_tag': \"hello\"}\n",
    "):\n",
    "    run_id = mlflow.active_run().info.run_id\n",
    "\n",
    "    skf = StratifiedKFold(n_splits=5, shuffle=False)\n",
    "    grid_search = GridSearchCV(estimator=pipeline, param_grid=search_params, scoring=\"accuracy\", cv=skf, verbose=1)\n",
    "\n",
    "    grid_search.fit(X_train, y_train)\n",
    "\n",
    "    best_model = grid_search.best_estimator_\n",
    "    signature = infer_signature(X_train.head(), best_model.predict(X_train.head()))\n",
    "\n",
    "    model_info = mlflow.sklearn.log_model(\n",
    "        sk_model=best_model,\n",
    "        name=settings.mlflow_model_name,\n",
    "        signature=signature,\n",
    "        input_example=X_train.head(),\n",
    "        registered_model_name=settings.mlflow_registered_model_name,\n",
    "    )"
   ]
  },
  {
   "cell_type": "markdown",
   "id": "01d3ef5b",
   "metadata": {},
   "source": [
    "Tag the trained registered model as \"staging\""
   ]
  },
  {
   "cell_type": "code",
   "execution_count": 9,
   "id": "f591dc8a",
   "metadata": {},
   "outputs": [],
   "source": [
    "model_version = mlflow.search_model_versions(filter_string=f\"run_id='{run_id}'\")[-1]\n",
    "\n",
    "client = mlflow.MlflowClient()\n",
    "client.set_model_version_tag(\n",
    "    name=settings.mlflow_registered_model_name,\n",
    "    version=model_version.version,\n",
    "    key=\"stage\",\n",
    "    value=\"staging\",\n",
    ")"
   ]
  },
  {
   "cell_type": "markdown",
   "id": "a0eb3d75",
   "metadata": {},
   "source": [
    "The best parameters and the accuracy score of the model:"
   ]
  },
  {
   "cell_type": "code",
   "execution_count": 10,
   "id": "e55522a6",
   "metadata": {},
   "outputs": [
    {
     "name": "stdout",
     "output_type": "stream",
     "text": [
      "Best Parameters found:\n",
      "\n",
      "classifier: LogisticRegression()\n",
      "classifier__C: 0.1\n",
      "classifier__solver: lbfgs\n",
      "data_pipe__feature_selector__k: 1\n",
      "data_pipe__preprocessor__cat__imputer__strategy: most_frequent\n",
      "data_pipe__preprocessor__num__imputer__strategy: mean\n",
      "data_pipe__preprocessor__num__scaler: None\n",
      "\n",
      "Best Cross-Validation Score: 0.7867365513778168\n"
     ]
    }
   ],
   "source": [
    "print(\"Best Parameters found:\\n\")\n",
    "for k, v in grid_search.best_params_.items():\n",
    "    print(f\"{k}: {v}\")\n",
    "print(\"\")\n",
    "print(\"Best Cross-Validation Score:\", grid_search.best_score_)"
   ]
  },
  {
   "cell_type": "markdown",
   "id": "aedb9ffa",
   "metadata": {},
   "source": [
    "# Evaluation\n",
    "\n",
    "You can see the best fitted model parameters above. This classifier reached a training accuracy of ~78.68%.\n",
    "\n",
    "This model chose to only 'Sex_female' column, which is created from the 'Sex' column using one-hot encoding.\n",
    "\n",
    "On the test set this lucky choice results in 100% accuracy, but only because in the training set all female passengers survive and all males die."
   ]
  },
  {
   "cell_type": "code",
   "execution_count": 11,
   "id": "85f27323",
   "metadata": {},
   "outputs": [
    {
     "name": "stdout",
     "output_type": "stream",
     "text": [
      "Accuracy of the model on the test dataset: 0.7867564534231201\n"
     ]
    }
   ],
   "source": [
    "df_test = pd.read_csv('../data/titanic.csv', index_col=index_columns)\n",
    "X_test = df_test.drop(columns=target_column)\n",
    "y_test = df_test[target_column]\n",
    "\n",
    "y_pred = best_model.predict(X_test)\n",
    "\n",
    "print(\"Accuracy of the model on the test dataset:\", accuracy_score(y_test, y_pred))"
   ]
  },
  {
   "cell_type": "code",
   "execution_count": 12,
   "id": "ce9f74fe",
   "metadata": {},
   "outputs": [
    {
     "name": "stdout",
     "output_type": "stream",
     "text": [
      "              precision    recall  f1-score   support\n",
      "\n",
      "           0       0.81      0.85      0.83       549\n",
      "           1       0.74      0.68      0.71       342\n",
      "\n",
      "    accuracy                           0.79       891\n",
      "   macro avg       0.78      0.77      0.77       891\n",
      "weighted avg       0.78      0.79      0.78       891\n",
      "\n"
     ]
    }
   ],
   "source": [
    "print(classification_report(y_test, y_pred))"
   ]
  },
  {
   "cell_type": "code",
   "execution_count": 13,
   "id": "caa0c862",
   "metadata": {},
   "outputs": [
    {
     "data": {
      "image/png": "[encoded data removed]",
      "text/plain": [
       "<Figure size 640x480 with 2 Axes>"
      ]
     },
     "metadata": {},
     "output_type": "display_data"
    }
   ],
   "source": [
    "ConfusionMatrixDisplay.from_predictions(y_test, y_pred)\n",
    "plt.show()"
   ]
  }
 ],
 "metadata": {
  "kernelspec": {
   "display_name": "app_venv (3.13.7)",
   "language": "python",
   "name": "python3"
  },
  "language_info": {
   "codemirror_mode": {
    "name": "ipython",
    "version": 3
   },
   "file_extension": ".py",
   "mimetype": "text/x-python",
   "name": "python",
   "nbconvert_exporter": "python",
   "pygments_lexer": "ipython3",
   "version": "3.13.7"
  }
 },
 "nbformat": 4,
 "nbformat_minor": 5
}
