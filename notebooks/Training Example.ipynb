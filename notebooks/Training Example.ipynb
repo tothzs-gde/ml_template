{
 "cells": [
  {
   "cell_type": "markdown",
   "id": "a41ed190",
   "metadata": {},
   "source": [
    "# IMPORTANT:\n",
    "\n",
    "MLflow grid_search.fit hangs when autolog is turned on and the notebook is ran the very first time. A workaround is to use a small parameter grid first, then use the actual larger parameter grid when you rerun the notebook. It is important that you do not restart the notebook! If you restart the notebook the grid_search.fit call will fail again with a larger parameter grid."
   ]
  },
  {
   "cell_type": "markdown",
   "id": "355cf948",
   "metadata": {},
   "source": [
    "# Data Processing and Model Training - Titanic Dataset\n",
    "\n",
    "In this notebook we define a proof of concept data processing including both the preprocessing and preparation of the data and the classification model as well. Bundling these two components together allows us to to tune both at the same time to find best fit during the training, and later deploy them as a unit."
   ]
  },
  {
   "cell_type": "markdown",
   "id": "33b34d89",
   "metadata": {},
   "source": [
    "### Package imports\n",
    "\n",
    "The warnings library is used to supress sklearn warning and keep the cell outputs clean. For example some parameters during the hyperparameter training might not be compatible. In these cases sklearn puts out a warning, to tell the user of this issue, but since this doesn't affect the rest of the parameter combinations, and the hyperparameter tuning concludes successfully."
   ]
  },
  {
   "cell_type": "code",
   "execution_count": 1,
   "id": "00938d97",
   "metadata": {},
   "outputs": [],
   "source": [
    "import sys\n",
    "import os\n",
    "sys.path.append(os.path.abspath(os.path.join(os.getcwd(), '..')))\n",
    "\n",
    "import datetime\n",
    "import warnings\n",
    "warnings.filterwarnings(\"ignore\")"
   ]
  },
  {
   "cell_type": "code",
   "execution_count": 2,
   "id": "5a14b93e",
   "metadata": {},
   "outputs": [],
   "source": [
    "import yaml\n",
    "\n",
    "import matplotlib.pyplot as plt\n",
    "import mlflow\n",
    "from mlflow import MlflowClient\n",
    "import pandas as pd\n",
    "from sklearn.metrics import accuracy_score\n",
    "from sklearn.metrics import classification_report\n",
    "from sklearn.metrics import ConfusionMatrixDisplay\n",
    "from sklearn.model_selection import GridSearchCV\n",
    "from sklearn.model_selection import StratifiedKFold\n",
    "from sklearn.model_selection import train_test_split\n",
    "\n",
    "from src.data.datasource import load_from_csv\n",
    "from src.data.drift import export_drift_data\n",
    "from src.data.pipeline import load_config\n",
    "from src.data.pipeline import load_pipeline\n",
    "from src.data.pipeline import load_search_params\n",
    "from src.model import RANDOM_SEED\n",
    "from src.utils.minio import create_mlflow_bucket\n",
    "from src.utils.settings import settings"
   ]
  },
  {
   "cell_type": "code",
   "execution_count": 3,
   "id": "ccd1883c",
   "metadata": {},
   "outputs": [],
   "source": [
    "os.environ[\"AWS_ACCESS_KEY_ID\"] = settings.aws_access_key_id\n",
    "os.environ[\"AWS_SECRET_ACCESS_KEY\"] = settings.aws_secret_access_key\n",
    "os.environ[\"MLFLOW_S3_ENDPOINT_URL\"] = settings.mlflow_s3_endpoint_url"
   ]
  },
  {
   "cell_type": "markdown",
   "id": "386729b5",
   "metadata": {},
   "source": [
    "## MLflow setup"
   ]
  },
  {
   "cell_type": "code",
   "execution_count": 4,
   "id": "bbbbf45e",
   "metadata": {},
   "outputs": [
    {
     "name": "stderr",
     "output_type": "stream",
     "text": [
      "2025/09/10 15:58:18 INFO mlflow.bedrock: Enabled auto-tracing for Bedrock. Note that MLflow can only trace boto3 service clients that are created after this call. If you have already created one, please recreate the client by calling `boto3.client`.\n",
      "2025/09/10 15:58:18 INFO mlflow.tracking.fluent: Autologging successfully enabled for boto3.\n",
      "2025/09/10 15:58:19 INFO mlflow.tracking.fluent: Autologging successfully enabled for sklearn.\n"
     ]
    }
   ],
   "source": [
    "mlflow.set_tracking_uri(uri=settings.mlflow_tracking_url)\n",
    "mlflow.set_experiment(experiment_name=settings.mlflow_experiment_name)\n",
    "mlflow.autolog(\n",
    "    log_models=False,\n",
    ")\n",
    "\n",
    "run_name = f\"train_{datetime.datetime.now().strftime(\"%Y%m%d%H%M%S\")}\""
   ]
  },
  {
   "cell_type": "markdown",
   "id": "9e0750d0",
   "metadata": {},
   "source": [
    "### Cloud storage bucket initiation"
   ]
  },
  {
   "cell_type": "code",
   "execution_count": 5,
   "id": "df9e9596",
   "metadata": {},
   "outputs": [
    {
     "name": "stdout",
     "output_type": "stream",
     "text": [
      "2025-09-10 15:58:19,047 [INFO] src.utils.logging: Using existing MLflow bucket\n"
     ]
    }
   ],
   "source": [
    "create_mlflow_bucket()"
   ]
  },
  {
   "cell_type": "markdown",
   "id": "700d72cf",
   "metadata": {},
   "source": [
    "## Data import"
   ]
  },
  {
   "cell_type": "code",
   "execution_count": 6,
   "id": "949d41e2",
   "metadata": {},
   "outputs": [
    {
     "name": "stdout",
     "output_type": "stream",
     "text": [
      "2025-09-10 15:58:19,055 [INFO] src.utils.logging: Importing data from local csv: ../data/titanic.csv\n",
      "2025-09-10 15:58:19,061 [INFO] src.utils.logging: Imported dataset (891, 11)\n",
      "2025-09-10 15:58:19,067 [INFO] src.utils.logging: Using existing MLflow bucket\n"
     ]
    }
   ],
   "source": [
    "X_data, y_data = load_from_csv(\n",
    "    data_path='../data/titanic.csv',\n",
    "    config_path=\"../config/data_config.yaml\",\n",
    ")\n",
    "\n",
    "X_train, X_drift = train_test_split(\n",
    "    X_data,\n",
    "    test_size=settings.test_split_size,\n",
    "    random_state=RANDOM_SEED,\n",
    ")\n",
    "y_train, y_drift = train_test_split(\n",
    "    y_data,\n",
    "    test_size=settings.test_split_size,\n",
    "    random_state=RANDOM_SEED,\n",
    ")\n",
    "\n",
    "drift_file_name = export_drift_data(X_drift, y_drift)"
   ]
  },
  {
   "cell_type": "markdown",
   "id": "2dc05b06",
   "metadata": {},
   "source": [
    "## Training\n",
    "\n",
    "For the training we are using grid search hyperparameter tuning with stratified K-fold crossvalidation."
   ]
  },
  {
   "cell_type": "code",
   "execution_count": 7,
   "id": "348e28f9",
   "metadata": {},
   "outputs": [
    {
     "name": "stdout",
     "output_type": "stream",
     "text": [
      "Pipeline(steps=[('data_pipe',\n",
      "                 Pipeline(steps=[('preprocessor',\n",
      "                                  ColumnTransformer(transformers=[('num',\n",
      "                                                                   Pipeline(steps=[('imputer',\n",
      "                                                                                    SimpleImputer(strategy='most_frequent')),\n",
      "                                                                                   ('scaler',\n",
      "                                                                                    StandardScaler())]),\n",
      "                                                                   ['Age',\n",
      "                                                                    'SibSp',\n",
      "                                                                    'Parch',\n",
      "                                                                    'Fare']),\n",
      "                                                                  ('cat',\n",
      "                                                                   Pipeline(steps=[('imputer',\n",
      "                                                                                    SimpleImputer(strategy='most_frequent')),\n",
      "                                                                                   ('encoder',\n",
      "                                                                                    OneHotEncoder())]),\n",
      "                                                                   ['Pclass',\n",
      "                                                                    'Sex',\n",
      "                                                                    'Embarked'])])),\n",
      "                                 ('feature_selector', SelectKBest(k='all'))])),\n",
      "                ('classifier', LogisticRegression())])\n",
      "{'data_pipe__preprocessor__num__imputer__strategy': ['mean', 'median'], 'data_pipe__preprocessor__num__scaler': [None, StandardScaler(), MinMaxScaler()], 'data_pipe__preprocessor__cat__imputer__strategy': ['most_frequent', 'median'], 'data_pipe__feature_selector__k': [1, 2, 3, 4, 5, 6, 7], 'classifier': [LogisticRegression()], 'classifier__C': [0.1, 1, 10], 'classifier__solver': ['lbfgs', 'liblinear', 'sag', 'saga']}\n",
      "{'data_pipe__preprocessor__num__imputer__strategy': ['mean', 'median'], 'data_pipe__preprocessor__cat__imputer__strategy': ['most_frequent', 'median'], 'data_pipe__feature_selector__k': [1, 2, 3, 4, 5, 6, 7], 'classifier': [RandomForestClassifier()], 'classifier__max_depth': [5, 10, None]}\n"
     ]
    }
   ],
   "source": [
    "config = load_config('../config/pipeline_config.yaml')\n",
    "pipeline_config = config.get(\"pipeline\")\n",
    "search_params_config = config.get(\"search_parameters\", [])\n",
    "\n",
    "pipeline = load_pipeline(pipeline_config)\n",
    "search_params = load_search_params(search_params_config)\n",
    "\n",
    "print(pipeline)\n",
    "for param in search_params:\n",
    "    print(param)"
   ]
  },
  {
   "cell_type": "code",
   "execution_count": 8,
   "id": "7f38fe31",
   "metadata": {},
   "outputs": [
    {
     "name": "stdout",
     "output_type": "stream",
     "text": [
      "Fitting 5 folds for each of 1092 candidates, totalling 5460 fits\n"
     ]
    },
    {
     "name": "stderr",
     "output_type": "stream",
     "text": [
      "2025/09/10 16:00:02 INFO mlflow.sklearn.utils: Logging the 5 best runs, 1087 runs will be omitted.\n",
      "Registered model 'sklearn-logreg-model' already exists. Creating a new version of this model...\n",
      "2025/09/10 16:00:06 INFO mlflow.store.model_registry.abstract_store: Waiting up to 300 seconds for model version to finish creation. Model name: sklearn-logreg-model, version 2\n",
      "Created version '2' of model 'sklearn-logreg-model'.\n"
     ]
    },
    {
     "name": "stdout",
     "output_type": "stream",
     "text": [
      "🏃 View run train_20250910155819 at: http://127.0.0.1:8080/#/experiments/1/runs/cb684ebbc4da45a69384d2f068fae82d\n",
      "🧪 View experiment at: http://127.0.0.1:8080/#/experiments/1\n"
     ]
    }
   ],
   "source": [
    "with mlflow.start_run(\n",
    "    run_name=run_name,\n",
    "    log_system_metrics=False,\n",
    "    tags={\"drift-data\": drift_file_name},\n",
    ") as active_run:    \n",
    "    skf = StratifiedKFold(n_splits=5, shuffle=False)\n",
    "    grid_search = GridSearchCV(estimator=pipeline, param_grid=search_params, scoring=\"accuracy\", cv=skf, verbose=1)\n",
    "\n",
    "    grid_search.fit(X_train, y_train)\n",
    "    best_model = grid_search.best_estimator_\n",
    "\n",
    "    model_info = mlflow.sklearn.log_model(\n",
    "        sk_model=best_model,\n",
    "        name=settings.mlflow_model_name,\n",
    "        input_example=X_train.head(),\n",
    "        registered_model_name=settings.mlflow_registered_model_name,\n",
    "    )\n",
    "\n",
    "    mlflow_client = MlflowClient()\n",
    "    latest_versions = mlflow_client.get_latest_versions(\n",
    "        name=settings.mlflow_registered_model_name,\n",
    "        stages=[\"None\"]\n",
    "    )\n",
    "\n",
    "    version_info = next(\n",
    "        v for v in latest_versions if v.run_id == active_run.info.run_id\n",
    "    )\n",
    "    \n",
    "    # registered model tags\n",
    "    mlflow_client.set_model_version_tag(\n",
    "        name=settings.mlflow_registered_model_name,\n",
    "        version=version_info.version,\n",
    "        key=\"drift-data\",\n",
    "        value=drift_file_name,\n",
    "    )\n",
    "    mlflow_client.set_model_version_tag(\n",
    "        name=settings.mlflow_registered_model_name,\n",
    "        version=version_info.version,\n",
    "        key=\"stage\",\n",
    "        value=\"staging\",\n",
    "    )"
   ]
  },
  {
   "cell_type": "code",
   "execution_count": 22,
   "id": "56809198",
   "metadata": {},
   "outputs": [
    {
     "data": {
      "text/plain": [
       "\"Pipeline(steps=[('data_pipe',\\n                 Pipeline(steps=[('preprocessor',\\n                                  ColumnTransformer(transformers=[('num',\\n                                                                   Pipeline(steps=[('imputer',\\n                                                                                    SimpleImputer(strategy='median')),\\n                                                                                   ('scaler',\\n                                                                                    StandardScaler())]),\\n                                                                   ['Age',\\n                                                                    'SibSp',\\n                                                                    'Parch',\\n                                                                    'Fare']),\\n                                                                  ('cat',\\n                                                                   Pipeline(steps=[('imputer',\\n                                                                                    SimpleImputer(strategy='most_frequent')),\\n                                                                                   ('encoder',\\n                                                                                    OneHotEncoder())]),\\n                                                                   ['Pclass',\\n                                                                    'Sex',\\n                                                                    'Embarked'])])),\\n                                 ('feature_selector', SelectKBest(k=7))])),\\n                ('classifier', RandomForestClassifier())])\""
      ]
     },
     "execution_count": 22,
     "metadata": {},
     "output_type": "execute_result"
    }
   ],
   "source": [
    "repr(best_model)"
   ]
  },
  {
   "cell_type": "markdown",
   "id": "a0eb3d75",
   "metadata": {},
   "source": [
    "The best parameters and the accuracy score of the model:"
   ]
  },
  {
   "cell_type": "code",
   "execution_count": 9,
   "id": "e55522a6",
   "metadata": {},
   "outputs": [
    {
     "name": "stdout",
     "output_type": "stream",
     "text": [
      "Best Parameters found:\n",
      "\n",
      "classifier: RandomForestClassifier()\n",
      "classifier__max_depth: None\n",
      "data_pipe__feature_selector__k: 7\n",
      "data_pipe__preprocessor__cat__imputer__strategy: most_frequent\n",
      "data_pipe__preprocessor__num__imputer__strategy: median\n",
      "\n",
      "Best Cross-Validation Score: 0.8264518633540373\n"
     ]
    }
   ],
   "source": [
    "print(\"Best Parameters found:\\n\")\n",
    "for k, v in grid_search.best_params_.items():\n",
    "    print(f\"{k}: {v}\")\n",
    "print(\"\")\n",
    "print(\"Best Cross-Validation Score:\", grid_search.best_score_)"
   ]
  },
  {
   "cell_type": "markdown",
   "id": "aedb9ffa",
   "metadata": {},
   "source": [
    "# Evaluation\n",
    "\n",
    "You can see the best fitted model parameters above. This classifier reached a training accuracy of ~78.68%.\n",
    "\n",
    "This model chose to only 'Sex_female' column, which is created from the 'Sex' column using one-hot encoding.\n",
    "\n",
    "On the test set this lucky choice results in 100% accuracy, but only because in the training set all female passengers survive and all males die."
   ]
  },
  {
   "cell_type": "code",
   "execution_count": 10,
   "id": "85f27323",
   "metadata": {},
   "outputs": [
    {
     "name": "stdout",
     "output_type": "stream",
     "text": [
      "Accuracy of the model on the test dataset: 0.898989898989899\n"
     ]
    }
   ],
   "source": [
    "with open('../config/data_config.yaml', 'r') as file:\n",
    "    metadata = yaml.safe_load(file)\n",
    "\n",
    "index_columns = metadata['index_columns']\n",
    "target_column = metadata['target_column']\n",
    "\n",
    "df_test = pd.read_csv('../data/titanic.csv', index_col=index_columns)\n",
    "X_test = df_test.drop(columns=target_column)\n",
    "y_test = df_test[target_column]\n",
    "\n",
    "y_pred = best_model.predict(X_test)\n",
    "\n",
    "print(\"Accuracy of the model on the test dataset:\", accuracy_score(y_test, y_pred))"
   ]
  },
  {
   "cell_type": "code",
   "execution_count": 11,
   "id": "ce9f74fe",
   "metadata": {},
   "outputs": [
    {
     "name": "stdout",
     "output_type": "stream",
     "text": [
      "              precision    recall  f1-score   support\n",
      "\n",
      "           0       0.90      0.94      0.92       549\n",
      "           1       0.90      0.83      0.86       342\n",
      "\n",
      "    accuracy                           0.90       891\n",
      "   macro avg       0.90      0.89      0.89       891\n",
      "weighted avg       0.90      0.90      0.90       891\n",
      "\n"
     ]
    }
   ],
   "source": [
    "print(classification_report(y_test, y_pred))"
   ]
  },
  {
   "cell_type": "code",
   "execution_count": 12,
   "id": "caa0c862",
   "metadata": {},
   "outputs": [
    {
     "data": {
      "image/png": "[encoded data removed]",
      "text/plain": [
       "<Figure size 640x480 with 2 Axes>"
      ]
     },
     "metadata": {},
     "output_type": "display_data"
    }
   ],
   "source": [
    "ConfusionMatrixDisplay.from_predictions(y_test, y_pred)\n",
    "plt.show()"
   ]
  }
 ],
 "metadata": {
  "kernelspec": {
   "display_name": "nb_venv (3.13.7)",
   "language": "python",
   "name": "python3"
  },
  "language_info": {
   "codemirror_mode": {
    "name": "ipython",
    "version": 3
   },
   "file_extension": ".py",
   "mimetype": "text/x-python",
   "name": "python",
   "nbconvert_exporter": "python",
   "pygments_lexer": "ipython3",
   "version": "3.13.7"
  }
 },
 "nbformat": 4,
 "nbformat_minor": 5
}
